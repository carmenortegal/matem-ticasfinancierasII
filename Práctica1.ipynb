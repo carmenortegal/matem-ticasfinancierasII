{
  "nbformat": 4,
  "nbformat_minor": 0,
  "metadata": {
    "colab": {
      "name": "Untitled2.ipynb",
      "provenance": [],
      "authorship_tag": "ABX9TyOh3FNL2+RFs/1PcsRgVv4g",
      "include_colab_link": true
    },
    "kernelspec": {
      "name": "python3",
      "display_name": "Python 3"
    },
    "language_info": {
      "name": "python"
    }
  },
  "cells": [
    {
      "cell_type": "markdown",
      "metadata": {
        "id": "view-in-github",
        "colab_type": "text"
      },
      "source": [
        "<a href=\"https://colab.research.google.com/github/carmenortegal/matem-ticasfinancierasII/blob/main/Pr%C3%A1ctica1.ipynb\" target=\"_parent\"><img src=\"https://colab.research.google.com/assets/colab-badge.svg\" alt=\"Open In Colab\"/></a>"
      ]
    },
    {
      "cell_type": "markdown",
      "source": [
        "### **Cálculo de la TIR y el precio de un bono**\n"
      ],
      "metadata": {
        "id": "j8oKpGfWwr1O"
      }
    },
    {
      "cell_type": "code",
      "source": [
        "pip install numpy-financial #se instala la librería que nos permitirá hacer diferentes cálculos financieros"
      ],
      "metadata": {
        "colab": {
          "base_uri": "https://localhost:8080/"
        },
        "id": "xViqss1NwxpX",
        "outputId": "af130c54-94fb-457d-b98b-1bdc952baa40"
      },
      "execution_count": 5,
      "outputs": [
        {
          "output_type": "stream",
          "name": "stdout",
          "text": [
            "Collecting numpy-financial\n",
            "  Downloading numpy_financial-1.0.0-py3-none-any.whl (14 kB)\n",
            "Requirement already satisfied: numpy>=1.15 in /usr/local/lib/python3.7/dist-packages (from numpy-financial) (1.21.5)\n",
            "Installing collected packages: numpy-financial\n",
            "Successfully installed numpy-financial-1.0.0\n"
          ]
        }
      ]
    },
    {
      "cell_type": "code",
      "source": [
        "pip install numpy"
      ],
      "metadata": {
        "colab": {
          "base_uri": "https://localhost:8080/"
        },
        "id": "j4lXFwl41-Ug",
        "outputId": "c8ce666a-2c86-4de5-9375-66ab19876995"
      },
      "execution_count": 6,
      "outputs": [
        {
          "output_type": "stream",
          "name": "stdout",
          "text": [
            "Requirement already satisfied: numpy in /usr/local/lib/python3.7/dist-packages (1.21.5)\n"
          ]
        }
      ]
    },
    {
      "cell_type": "code",
      "source": [
        "import numpy_financial as npf #se asigna un alias a la librería instalada\n",
        "import numpy as np\n",
        "\n",
        "#Se introducen los flujos de cada bono\n",
        "cfA = [-96, 100,0,0,0,0]\n",
        "cfB=[-545,50,550,0,0,0]\n",
        "cfC=[-1030,70,70,1070,0,0]\n",
        "cfD=[-2030,150,150,150,2150,0]\n",
        "cfE=[-3920,300,300,300,300,4300]\n",
        "cfX=[0,100,100,100,100,1100]\n",
        "\n",
        "CF=np.concatenate(([cfA],[cfB],[cfC],[cfD],[cfE]))\n",
        "\n",
        "print(CF)\n"
      ],
      "metadata": {
        "colab": {
          "base_uri": "https://localhost:8080/"
        },
        "id": "WeUvYRwixTpG",
        "outputId": "06362c00-c658-4d49-b95a-0d07f5317051"
      },
      "execution_count": 87,
      "outputs": [
        {
          "output_type": "stream",
          "name": "stdout",
          "text": [
            "[[  -96   100     0     0     0     0]\n",
            " [ -545    50   550     0     0     0]\n",
            " [-1030    70    70  1070     0     0]\n",
            " [-2030   150   150   150  2150     0]\n",
            " [-3920   300   300   300   300  4300]]\n"
          ]
        }
      ]
    },
    {
      "cell_type": "code",
      "source": [
        "#Cálculo de la TIR de los bonos A-E con una función específica de la librería instalada (irr)\n",
        "tirA = npf.irr(cfA)\n",
        "tirB = npf.irr(cfB)\n",
        "tirC = npf.irr(cfC)\n",
        "tirD = npf.irr(cfD)\n",
        "tirE = npf.irr(cfE)\n",
        "\n",
        "print(f\"TIR BONO A: {tirA:.2%}\")\n",
        "print(f\"TIR BONO B: {tirB:.2%}\")\n",
        "print(f\"TIR BONO C: {tirC:.2%}\")\n",
        "print(f\"TIR BONO D: {tirD:.2%}\")\n",
        "print(f\"TIR BONO E: {tirE:.2%}\")"
      ],
      "metadata": {
        "colab": {
          "base_uri": "https://localhost:8080/"
        },
        "id": "czVmYwyI00Fh",
        "outputId": "328e5fbc-e17b-47fe-c5d9-db6ac040713b"
      },
      "execution_count": 10,
      "outputs": [
        {
          "output_type": "stream",
          "name": "stdout",
          "text": [
            "TIR BONO A: 4.17%\n",
            "TIR BONO B: 5.15%\n",
            "TIR BONO C: 5.88%\n",
            "TIR BONO D: 7.06%\n",
            "TIR BONO E: 8.00%\n"
          ]
        }
      ]
    },
    {
      "cell_type": "code",
      "source": [
        "#Cálculo de la ETTI\n",
        "etti_calculada = [tirA,0,0,0,0]  #Sabemos que la ETTI del primer año se corresponde con la del Bono A ya que es un bono cupón cero\n",
        "def calcula_etti(cf, etti_calculada): #se define una función que calculará la ETTI para el resto de periodos\n",
        "    n = [i for i, e in enumerate(cf) if e != 0][-1]\n",
        "    ultimo_flujo = cf[n]\n",
        "    precio = -cf[0]\n",
        "    fcid = 0 \n",
        "    for t in range(1,n):\n",
        "        fcid += cf[t] / (1+etti_calculada[t-1])**t\n",
        "    return (ultimo_flujo / (precio - fcid))**(1/n)-1\n",
        "\n",
        "etti_calculada[1] = calcula_etti(cfB, etti_calculada) # calculamos ETTI en n=2 conocido el bono B y ETTI del año 1\n",
        "\n",
        "etti_calculada[2] = calcula_etti(cfC, etti_calculada) # calculamos ETTI en n=3 conocido el bono C y ETTI de los años 1 y 2\n",
        "\n",
        "etti_calculada[3] = calcula_etti(cfD, etti_calculada) # calculamos ETTI en n=4 conocidos los bonos D y ETTI de los años 1, 2 y 3\n",
        "\n",
        "etti_calculada[4] = calcula_etti(cfE, etti_calculada) # calculamos ETTI en n=5 conocido el bono E y ETTI de los años 1, 2, 3 y 4\n",
        "\n",
        "\n",
        "for i in range(len(etti_calculada)):\n",
        "    print(f\"La ETTI del año {i+1} es {etti_calculada[i]:.2%}\")"
      ],
      "metadata": {
        "colab": {
          "base_uri": "https://localhost:8080/"
        },
        "id": "8Im_060iyz0H",
        "outputId": "5493b119-8e9c-4b2b-dd16-8a305c19bbdb"
      },
      "execution_count": 61,
      "outputs": [
        {
          "output_type": "stream",
          "name": "stdout",
          "text": [
            "La ETTI del año 1 es 4.17%\n",
            "La ETTI del año 2 es 5.20%\n",
            "La ETTI del año 3 es 5.95%\n",
            "La ETTI del año 4 es 7.26%\n",
            "La ETTI del año 5 es 8.33%\n"
          ]
        }
      ]
    },
    {
      "cell_type": "code",
      "source": [
        "#Cálculo del precio del bono X\n",
        "def calcula_precio(cf,ti): #Se define una función que calcule el precio del bono X dados unos flujos (del bono X) y unos tipos de interés (ETTI)\n",
        "  precio = 0\n",
        "  for i in range(1,len(cf)):\n",
        "    precio += cf[i] * (1+ti[i-1])**-i\n",
        "  return precio   \n",
        "\n",
        "\n",
        "precioX= calcula_precio(cfX, etti_calculada)\n",
        "print(f\"el precio del Bono X es: {precioX:,.2f}€\")\n",
        "\n",
        "cfX[0]=-precioX\n",
        "print(f\"los flujos del Bono X son: {cfX}\")\n",
        "\n",
        "#Cálculo de la TIR del bono X mediante la función irr de numpy_financial\n",
        "tirX=npf.irr(cfX)\n",
        "print(f\"La TIR del Bono X es: {tirX:.2%}\")\n",
        "\n"
      ],
      "metadata": {
        "colab": {
          "base_uri": "https://localhost:8080/"
        },
        "id": "Jp6Vcom_kcDE",
        "outputId": "5f2ffd1d-1fb4-4bbe-f2f8-2675f25ca1f2"
      },
      "execution_count": 86,
      "outputs": [
        {
          "output_type": "stream",
          "name": "stdout",
          "text": [
            "el precio del Bono X es: 1,083.25€\n",
            "los flujos de caja del Bono X son: [-1083.2522022742555, 100, 100, 100, 100, 1100]\n",
            "La TIR del Bono X es: 7.92%\n"
          ]
        }
      ]
    }
  ]
}